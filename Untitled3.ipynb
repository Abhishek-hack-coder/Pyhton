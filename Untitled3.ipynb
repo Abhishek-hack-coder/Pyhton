{
 "cells": [
  {
   "cell_type": "code",
   "execution_count": 1,
   "metadata": {},
   "outputs": [
    {
     "name": "stdout",
     "output_type": "stream",
     "text": [
      "Enter the first number20\n",
      "enter the second number56\n",
      "Sum of 20 and 56 is 76\n"
     ]
    }
   ],
   "source": [
    "x=int(input(\"Enter the first number\"))\n",
    "y=int(input(\"enter the second number\"))\n",
    "s=x+y\n",
    "print(\"Sum of\",x,\"and\",y,\"is\",s)\n"
   ]
  },
  {
   "cell_type": "code",
   "execution_count": 6,
   "metadata": {},
   "outputs": [
    {
     "name": "stdout",
     "output_type": "stream",
     "text": [
      "Enter radius of Circle5\n",
      "Area of circle is: 125.0\n"
     ]
    }
   ],
   "source": [
    "x=float(input(\"Enter radius of Circle\"))\n",
    "area=3.14*x**2\n",
    "print(\"Area of circle is:\",area)"
   ]
  },
  {
   "cell_type": "code",
   "execution_count": 7,
   "metadata": {},
   "outputs": [
    {
     "name": "stdout",
     "output_type": "stream",
     "text": [
      "Enter the principal amount1200\n",
      "Enter rate of interest3\n",
      "Enter the time period2\n",
      "Simple Interest: 72.0\n"
     ]
    }
   ],
   "source": [
    "p=int(input(\"Enter the principal amount\"))\n",
    "r=int(input(\"Enter rate of interest\"))\n",
    "t=float(input(\"Enter the time period\"))\n",
    "SI=p*r*t/100\n",
    "print(\"Simple Interest:\",SI)"
   ]
  },
  {
   "cell_type": "code",
   "execution_count": 10,
   "metadata": {},
   "outputs": [
    {
     "name": "stdout",
     "output_type": "stream",
     "text": [
      "Enter the length of cuboid:7\n",
      "Enter the breadth of cuboid:8\n",
      "Enter the height of cuboid:9\n",
      "Volume of cuboid= 504\n"
     ]
    }
   ],
   "source": [
    "l=int(input(\"Enter the length of cuboid:\"))\n",
    "b=int(input(\"Enter the breadth of cuboid:\"))\n",
    "h=int(input(\"Enter the height of cuboid:\"))\n",
    "v=l*b*h\n",
    "print(\"Volume of cuboid=\",v)"
   ]
  },
  {
   "cell_type": "code",
   "execution_count": 17,
   "metadata": {},
   "outputs": [
    {
     "name": "stdout",
     "output_type": "stream",
     "text": [
      "Enter the number:47\n",
      "47  is not divisible by 5\n"
     ]
    }
   ],
   "source": [
    "x=int(input(\"Enter the number:\"))\n",
    "if x%5==0:\n",
    "    print(x,\" is divisible by 5\")\n",
    "else:\n",
    "    print(x,\" is not divisible by 5\")\n",
    "\n"
   ]
  },
  {
   "cell_type": "code",
   "execution_count": 22,
   "metadata": {},
   "outputs": [
    {
     "name": "stdout",
     "output_type": "stream",
     "text": [
      "enter the number:99999999999999999999999999999999999999999999\n",
      "positive\n"
     ]
    }
   ],
   "source": [
    "x=int(input(\"enter the number:\"))\n",
    "if x>0:\n",
    "    print(\"positive\")\n",
    "elif x<0:\n",
    "    print(\"negative\")\n",
    "else:\n",
    "    print(\"zero\")\n",
    "    \n",
    "    "
   ]
  },
  {
   "cell_type": "code",
   "execution_count": 3,
   "metadata": {},
   "outputs": [
    {
     "name": "stdout",
     "output_type": "stream",
     "text": [
      "Enter any number : 56\n",
      "Enter any number : 34\n",
      "Enter any number : 45\n",
      "The largest number is:  56\n"
     ]
    }
   ],
   "source": [
    "a=int(input(\"Enter any number : \"))\n",
    "b=int(input(\"Enter any number : \"))\n",
    "c=int(input(\"Enter any number : \"))\n",
    "if (a>b) and (a>c):\n",
    "    largest=a\n",
    "elif (b>a) and (b>c):\n",
    "    largest=b\n",
    "else:\n",
    "    largest=c\n",
    "print(\"The largest number is: \",largest)"
   ]
  },
  {
   "cell_type": "code",
   "execution_count": 4,
   "metadata": {},
   "outputs": [
    {
     "name": "stdout",
     "output_type": "stream",
     "text": [
      "Enter the year:2020\n",
      "2020 is a leap year \n"
     ]
    }
   ],
   "source": [
    "y=int(input(\"Enter the year:\"))\n",
    "if (y%4)==0:\n",
    "    if (y%100)==0:\n",
    "        if (y%400)==0:\n",
    "            print(\"{0} is a leap year \".format(y))\n",
    "        else:\n",
    "            print(\"{0} is not a leap year \".format(y))\n",
    "    else:\n",
    "        print(\"{0} is a leap year \".format(y))\n",
    "else:\n",
    "    print(\"{0} is a leap year \".format(y))"
   ]
  },
  {
   "cell_type": "code",
   "execution_count": 10,
   "metadata": {},
   "outputs": [
    {
     "name": "stdout",
     "output_type": "stream",
     "text": [
      "month:2\n",
      "year:2050\n",
      "Number of days is 28\n"
     ]
    }
   ],
   "source": [
    "month = int(input(\"month:\"))\n",
    "year = int(input(\"year:\"))\n",
    "if(month == 1 or month == 3 or month == 5 or month == 7 or month == 8 or month == 10 or month == 12):\n",
    "    print(\"Number of days is 31\")\n",
    "elif((month == 2) and (year%4 == 0) or ((year%100 == 0) and (year%400 == 0))):\n",
    "    print(\"Number of days is 29\")\n",
    "elif(month == 2):\n",
    "    print(\"Number of days is 28\")\n",
    "else:\n",
    "    print(\"Number of days is 30\")"
   ]
  },
  {
   "cell_type": "code",
   "execution_count": 2,
   "metadata": {},
   "outputs": [
    {
     "name": "stdout",
     "output_type": "stream",
     "text": [
      "Enter any number : 1\n",
      "Enter any number : 2\n",
      "Enter any number : 3\n",
      "The solution are (-1-1.4142135623730951j) and (-1+1.4142135623730951j)\n"
     ]
    }
   ],
   "source": [
    "import cmath\n",
    "a=int(input(\"Enter any number : \"))\n",
    "b=int(input(\"Enter any number : \"))\n",
    "c=int(input(\"Enter any number : \"))\n",
    "\n",
    "# calculate the discriminant\n",
    "d = (b**2) - (4*a*c)\n",
    "\n",
    "# find two solutions\n",
    "sol1 = (-b-cmath.sqrt(d))/(2*a)\n",
    "sol2 = (-b+cmath.sqrt(d))/(2*a)\n",
    "\n",
    "print('The solution are {0} and {1}'.format(sol1,sol2))"
   ]
  },
  {
   "cell_type": "code",
   "execution_count": 4,
   "metadata": {},
   "outputs": [
    {
     "name": "stdout",
     "output_type": "stream",
     "text": [
      "The real part of complex number is : 5.0\n",
      "The imaginary part of complex number is : 6.0\n"
     ]
    }
   ],
   "source": [
    "# Python code to demonstrate the working of \n",
    "# complex(), real() and imag() \n",
    "  \n",
    "# importing \"cmath\" for complex number operations \n",
    "import cmath \n",
    "  \n",
    "# Initializing real numbers \n",
    "x = 5\n",
    "y = 6\n",
    "  \n",
    "# converting x and y into complex number \n",
    "z = complex(x,y); \n",
    "  \n",
    "# printing real and imaginary part of complex number \n",
    "print (\"The real part of complex number is : \",end=\"\") \n",
    "print (z.real) \n",
    "  \n",
    "print (\"The imaginary part of complex number is : \",end=\"\") \n",
    "print (z.imag) "
   ]
  },
  {
   "cell_type": "code",
   "execution_count": null,
   "metadata": {},
   "outputs": [],
   "source": []
  }
 ],
 "metadata": {
  "kernelspec": {
   "display_name": "Python 3",
   "language": "python",
   "name": "python3"
  },
  "language_info": {
   "codemirror_mode": {
    "name": "ipython",
    "version": 3
   },
   "file_extension": ".py",
   "mimetype": "text/x-python",
   "name": "python",
   "nbconvert_exporter": "python",
   "pygments_lexer": "ipython3",
   "version": "3.7.6"
  }
 },
 "nbformat": 4,
 "nbformat_minor": 4
}
